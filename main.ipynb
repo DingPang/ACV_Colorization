{
  "nbformat": 4,
  "nbformat_minor": 0,
  "metadata": {
    "colab": {
      "provenance": [],
      "toc_visible": true
    },
    "kernelspec": {
      "name": "python3",
      "display_name": "Python 3"
    },
    "language_info": {
      "name": "python"
    },
    "widgets": {
      "application/vnd.jupyter.widget-state+json": {
        "9640b2067d5e4edcb80b9dd9a0b457ed": {
          "model_module": "@jupyter-widgets/controls",
          "model_name": "HBoxModel",
          "model_module_version": "1.5.0",
          "state": {
            "_dom_classes": [],
            "_model_module": "@jupyter-widgets/controls",
            "_model_module_version": "1.5.0",
            "_model_name": "HBoxModel",
            "_view_count": null,
            "_view_module": "@jupyter-widgets/controls",
            "_view_module_version": "1.5.0",
            "_view_name": "HBoxView",
            "box_style": "",
            "children": [
              "IPY_MODEL_0fc515e1a56140a3a843ea486a57f5e7",
              "IPY_MODEL_2b7b3588989b4f009727dc326cafa702",
              "IPY_MODEL_f6e326940bd54787bdb2b8de90ca0e88"
            ],
            "layout": "IPY_MODEL_d52c7ae00e7f4a63b2ef24f38a52a85b"
          }
        },
        "0fc515e1a56140a3a843ea486a57f5e7": {
          "model_module": "@jupyter-widgets/controls",
          "model_name": "HTMLModel",
          "model_module_version": "1.5.0",
          "state": {
            "_dom_classes": [],
            "_model_module": "@jupyter-widgets/controls",
            "_model_module_version": "1.5.0",
            "_model_name": "HTMLModel",
            "_view_count": null,
            "_view_module": "@jupyter-widgets/controls",
            "_view_module_version": "1.5.0",
            "_view_name": "HTMLView",
            "description": "",
            "description_tooltip": null,
            "layout": "IPY_MODEL_5b9d7bc17ec74eda8848230a9a80ff7f",
            "placeholder": "​",
            "style": "IPY_MODEL_f25df4c1628a40a8b315169b93fcb1ce",
            "value": "  0%"
          }
        },
        "2b7b3588989b4f009727dc326cafa702": {
          "model_module": "@jupyter-widgets/controls",
          "model_name": "FloatProgressModel",
          "model_module_version": "1.5.0",
          "state": {
            "_dom_classes": [],
            "_model_module": "@jupyter-widgets/controls",
            "_model_module_version": "1.5.0",
            "_model_name": "FloatProgressModel",
            "_view_count": null,
            "_view_module": "@jupyter-widgets/controls",
            "_view_module_version": "1.5.0",
            "_view_name": "ProgressView",
            "bar_style": "danger",
            "description": "",
            "description_tooltip": null,
            "layout": "IPY_MODEL_d7bc360d4b2341f6be18cce9862d327b",
            "max": 625,
            "min": 0,
            "orientation": "horizontal",
            "style": "IPY_MODEL_c82a94249f694e4b80a5633a29200f37",
            "value": 0
          }
        },
        "f6e326940bd54787bdb2b8de90ca0e88": {
          "model_module": "@jupyter-widgets/controls",
          "model_name": "HTMLModel",
          "model_module_version": "1.5.0",
          "state": {
            "_dom_classes": [],
            "_model_module": "@jupyter-widgets/controls",
            "_model_module_version": "1.5.0",
            "_model_name": "HTMLModel",
            "_view_count": null,
            "_view_module": "@jupyter-widgets/controls",
            "_view_module_version": "1.5.0",
            "_view_name": "HTMLView",
            "description": "",
            "description_tooltip": null,
            "layout": "IPY_MODEL_07b599f754f444319d1c81259d42c8ac",
            "placeholder": "​",
            "style": "IPY_MODEL_3c53da840fc94f3da39a2e7c13076e23",
            "value": " 0/625 [00:50&lt;?, ?it/s]"
          }
        },
        "d52c7ae00e7f4a63b2ef24f38a52a85b": {
          "model_module": "@jupyter-widgets/base",
          "model_name": "LayoutModel",
          "model_module_version": "1.2.0",
          "state": {
            "_model_module": "@jupyter-widgets/base",
            "_model_module_version": "1.2.0",
            "_model_name": "LayoutModel",
            "_view_count": null,
            "_view_module": "@jupyter-widgets/base",
            "_view_module_version": "1.2.0",
            "_view_name": "LayoutView",
            "align_content": null,
            "align_items": null,
            "align_self": null,
            "border": null,
            "bottom": null,
            "display": null,
            "flex": null,
            "flex_flow": null,
            "grid_area": null,
            "grid_auto_columns": null,
            "grid_auto_flow": null,
            "grid_auto_rows": null,
            "grid_column": null,
            "grid_gap": null,
            "grid_row": null,
            "grid_template_areas": null,
            "grid_template_columns": null,
            "grid_template_rows": null,
            "height": null,
            "justify_content": null,
            "justify_items": null,
            "left": null,
            "margin": null,
            "max_height": null,
            "max_width": null,
            "min_height": null,
            "min_width": null,
            "object_fit": null,
            "object_position": null,
            "order": null,
            "overflow": null,
            "overflow_x": null,
            "overflow_y": null,
            "padding": null,
            "right": null,
            "top": null,
            "visibility": null,
            "width": null
          }
        },
        "5b9d7bc17ec74eda8848230a9a80ff7f": {
          "model_module": "@jupyter-widgets/base",
          "model_name": "LayoutModel",
          "model_module_version": "1.2.0",
          "state": {
            "_model_module": "@jupyter-widgets/base",
            "_model_module_version": "1.2.0",
            "_model_name": "LayoutModel",
            "_view_count": null,
            "_view_module": "@jupyter-widgets/base",
            "_view_module_version": "1.2.0",
            "_view_name": "LayoutView",
            "align_content": null,
            "align_items": null,
            "align_self": null,
            "border": null,
            "bottom": null,
            "display": null,
            "flex": null,
            "flex_flow": null,
            "grid_area": null,
            "grid_auto_columns": null,
            "grid_auto_flow": null,
            "grid_auto_rows": null,
            "grid_column": null,
            "grid_gap": null,
            "grid_row": null,
            "grid_template_areas": null,
            "grid_template_columns": null,
            "grid_template_rows": null,
            "height": null,
            "justify_content": null,
            "justify_items": null,
            "left": null,
            "margin": null,
            "max_height": null,
            "max_width": null,
            "min_height": null,
            "min_width": null,
            "object_fit": null,
            "object_position": null,
            "order": null,
            "overflow": null,
            "overflow_x": null,
            "overflow_y": null,
            "padding": null,
            "right": null,
            "top": null,
            "visibility": null,
            "width": null
          }
        },
        "f25df4c1628a40a8b315169b93fcb1ce": {
          "model_module": "@jupyter-widgets/controls",
          "model_name": "DescriptionStyleModel",
          "model_module_version": "1.5.0",
          "state": {
            "_model_module": "@jupyter-widgets/controls",
            "_model_module_version": "1.5.0",
            "_model_name": "DescriptionStyleModel",
            "_view_count": null,
            "_view_module": "@jupyter-widgets/base",
            "_view_module_version": "1.2.0",
            "_view_name": "StyleView",
            "description_width": ""
          }
        },
        "d7bc360d4b2341f6be18cce9862d327b": {
          "model_module": "@jupyter-widgets/base",
          "model_name": "LayoutModel",
          "model_module_version": "1.2.0",
          "state": {
            "_model_module": "@jupyter-widgets/base",
            "_model_module_version": "1.2.0",
            "_model_name": "LayoutModel",
            "_view_count": null,
            "_view_module": "@jupyter-widgets/base",
            "_view_module_version": "1.2.0",
            "_view_name": "LayoutView",
            "align_content": null,
            "align_items": null,
            "align_self": null,
            "border": null,
            "bottom": null,
            "display": null,
            "flex": null,
            "flex_flow": null,
            "grid_area": null,
            "grid_auto_columns": null,
            "grid_auto_flow": null,
            "grid_auto_rows": null,
            "grid_column": null,
            "grid_gap": null,
            "grid_row": null,
            "grid_template_areas": null,
            "grid_template_columns": null,
            "grid_template_rows": null,
            "height": null,
            "justify_content": null,
            "justify_items": null,
            "left": null,
            "margin": null,
            "max_height": null,
            "max_width": null,
            "min_height": null,
            "min_width": null,
            "object_fit": null,
            "object_position": null,
            "order": null,
            "overflow": null,
            "overflow_x": null,
            "overflow_y": null,
            "padding": null,
            "right": null,
            "top": null,
            "visibility": null,
            "width": null
          }
        },
        "c82a94249f694e4b80a5633a29200f37": {
          "model_module": "@jupyter-widgets/controls",
          "model_name": "ProgressStyleModel",
          "model_module_version": "1.5.0",
          "state": {
            "_model_module": "@jupyter-widgets/controls",
            "_model_module_version": "1.5.0",
            "_model_name": "ProgressStyleModel",
            "_view_count": null,
            "_view_module": "@jupyter-widgets/base",
            "_view_module_version": "1.2.0",
            "_view_name": "StyleView",
            "bar_color": null,
            "description_width": ""
          }
        },
        "07b599f754f444319d1c81259d42c8ac": {
          "model_module": "@jupyter-widgets/base",
          "model_name": "LayoutModel",
          "model_module_version": "1.2.0",
          "state": {
            "_model_module": "@jupyter-widgets/base",
            "_model_module_version": "1.2.0",
            "_model_name": "LayoutModel",
            "_view_count": null,
            "_view_module": "@jupyter-widgets/base",
            "_view_module_version": "1.2.0",
            "_view_name": "LayoutView",
            "align_content": null,
            "align_items": null,
            "align_self": null,
            "border": null,
            "bottom": null,
            "display": null,
            "flex": null,
            "flex_flow": null,
            "grid_area": null,
            "grid_auto_columns": null,
            "grid_auto_flow": null,
            "grid_auto_rows": null,
            "grid_column": null,
            "grid_gap": null,
            "grid_row": null,
            "grid_template_areas": null,
            "grid_template_columns": null,
            "grid_template_rows": null,
            "height": null,
            "justify_content": null,
            "justify_items": null,
            "left": null,
            "margin": null,
            "max_height": null,
            "max_width": null,
            "min_height": null,
            "min_width": null,
            "object_fit": null,
            "object_position": null,
            "order": null,
            "overflow": null,
            "overflow_x": null,
            "overflow_y": null,
            "padding": null,
            "right": null,
            "top": null,
            "visibility": null,
            "width": null
          }
        },
        "3c53da840fc94f3da39a2e7c13076e23": {
          "model_module": "@jupyter-widgets/controls",
          "model_name": "DescriptionStyleModel",
          "model_module_version": "1.5.0",
          "state": {
            "_model_module": "@jupyter-widgets/controls",
            "_model_module_version": "1.5.0",
            "_model_name": "DescriptionStyleModel",
            "_view_count": null,
            "_view_module": "@jupyter-widgets/base",
            "_view_module_version": "1.2.0",
            "_view_name": "StyleView",
            "description_width": ""
          }
        },
        "93117bcd8cac40d6bd8412d18334a822": {
          "model_module": "@jupyter-widgets/controls",
          "model_name": "HBoxModel",
          "model_module_version": "1.5.0",
          "state": {
            "_dom_classes": [],
            "_model_module": "@jupyter-widgets/controls",
            "_model_module_version": "1.5.0",
            "_model_name": "HBoxModel",
            "_view_count": null,
            "_view_module": "@jupyter-widgets/controls",
            "_view_module_version": "1.5.0",
            "_view_name": "HBoxView",
            "box_style": "",
            "children": [
              "IPY_MODEL_7189544d06824031b9f11f775fbff946",
              "IPY_MODEL_783e34aac1db45ba82e5d5ca3e302658",
              "IPY_MODEL_385562c53f7d4b019b2171b956bca5d6"
            ],
            "layout": "IPY_MODEL_6b7daee1dceb46738fa85805cf61e50f"
          }
        },
        "7189544d06824031b9f11f775fbff946": {
          "model_module": "@jupyter-widgets/controls",
          "model_name": "HTMLModel",
          "model_module_version": "1.5.0",
          "state": {
            "_dom_classes": [],
            "_model_module": "@jupyter-widgets/controls",
            "_model_module_version": "1.5.0",
            "_model_name": "HTMLModel",
            "_view_count": null,
            "_view_module": "@jupyter-widgets/controls",
            "_view_module_version": "1.5.0",
            "_view_name": "HTMLView",
            "description": "",
            "description_tooltip": null,
            "layout": "IPY_MODEL_751c973197c24accb6988df714c05e69",
            "placeholder": "​",
            "style": "IPY_MODEL_f79fb36527304b92af3a9657932cee53",
            "value": "  0%"
          }
        },
        "783e34aac1db45ba82e5d5ca3e302658": {
          "model_module": "@jupyter-widgets/controls",
          "model_name": "FloatProgressModel",
          "model_module_version": "1.5.0",
          "state": {
            "_dom_classes": [],
            "_model_module": "@jupyter-widgets/controls",
            "_model_module_version": "1.5.0",
            "_model_name": "FloatProgressModel",
            "_view_count": null,
            "_view_module": "@jupyter-widgets/controls",
            "_view_module_version": "1.5.0",
            "_view_name": "ProgressView",
            "bar_style": "",
            "description": "",
            "description_tooltip": null,
            "layout": "IPY_MODEL_f5fa4ee9614443639b679af64a81da91",
            "max": 625,
            "min": 0,
            "orientation": "horizontal",
            "style": "IPY_MODEL_043008c2c2864cbebd3505049826d2fd",
            "value": 0
          }
        },
        "385562c53f7d4b019b2171b956bca5d6": {
          "model_module": "@jupyter-widgets/controls",
          "model_name": "HTMLModel",
          "model_module_version": "1.5.0",
          "state": {
            "_dom_classes": [],
            "_model_module": "@jupyter-widgets/controls",
            "_model_module_version": "1.5.0",
            "_model_name": "HTMLModel",
            "_view_count": null,
            "_view_module": "@jupyter-widgets/controls",
            "_view_module_version": "1.5.0",
            "_view_name": "HTMLView",
            "description": "",
            "description_tooltip": null,
            "layout": "IPY_MODEL_26a70a9c71aa4f59b293b704f05b5087",
            "placeholder": "​",
            "style": "IPY_MODEL_5ecec3b7c94741ecb5c91ea3a4fbd42d",
            "value": " 0/625 [00:00&lt;?, ?it/s]"
          }
        },
        "6b7daee1dceb46738fa85805cf61e50f": {
          "model_module": "@jupyter-widgets/base",
          "model_name": "LayoutModel",
          "model_module_version": "1.2.0",
          "state": {
            "_model_module": "@jupyter-widgets/base",
            "_model_module_version": "1.2.0",
            "_model_name": "LayoutModel",
            "_view_count": null,
            "_view_module": "@jupyter-widgets/base",
            "_view_module_version": "1.2.0",
            "_view_name": "LayoutView",
            "align_content": null,
            "align_items": null,
            "align_self": null,
            "border": null,
            "bottom": null,
            "display": null,
            "flex": null,
            "flex_flow": null,
            "grid_area": null,
            "grid_auto_columns": null,
            "grid_auto_flow": null,
            "grid_auto_rows": null,
            "grid_column": null,
            "grid_gap": null,
            "grid_row": null,
            "grid_template_areas": null,
            "grid_template_columns": null,
            "grid_template_rows": null,
            "height": null,
            "justify_content": null,
            "justify_items": null,
            "left": null,
            "margin": null,
            "max_height": null,
            "max_width": null,
            "min_height": null,
            "min_width": null,
            "object_fit": null,
            "object_position": null,
            "order": null,
            "overflow": null,
            "overflow_x": null,
            "overflow_y": null,
            "padding": null,
            "right": null,
            "top": null,
            "visibility": null,
            "width": null
          }
        },
        "751c973197c24accb6988df714c05e69": {
          "model_module": "@jupyter-widgets/base",
          "model_name": "LayoutModel",
          "model_module_version": "1.2.0",
          "state": {
            "_model_module": "@jupyter-widgets/base",
            "_model_module_version": "1.2.0",
            "_model_name": "LayoutModel",
            "_view_count": null,
            "_view_module": "@jupyter-widgets/base",
            "_view_module_version": "1.2.0",
            "_view_name": "LayoutView",
            "align_content": null,
            "align_items": null,
            "align_self": null,
            "border": null,
            "bottom": null,
            "display": null,
            "flex": null,
            "flex_flow": null,
            "grid_area": null,
            "grid_auto_columns": null,
            "grid_auto_flow": null,
            "grid_auto_rows": null,
            "grid_column": null,
            "grid_gap": null,
            "grid_row": null,
            "grid_template_areas": null,
            "grid_template_columns": null,
            "grid_template_rows": null,
            "height": null,
            "justify_content": null,
            "justify_items": null,
            "left": null,
            "margin": null,
            "max_height": null,
            "max_width": null,
            "min_height": null,
            "min_width": null,
            "object_fit": null,
            "object_position": null,
            "order": null,
            "overflow": null,
            "overflow_x": null,
            "overflow_y": null,
            "padding": null,
            "right": null,
            "top": null,
            "visibility": null,
            "width": null
          }
        },
        "f79fb36527304b92af3a9657932cee53": {
          "model_module": "@jupyter-widgets/controls",
          "model_name": "DescriptionStyleModel",
          "model_module_version": "1.5.0",
          "state": {
            "_model_module": "@jupyter-widgets/controls",
            "_model_module_version": "1.5.0",
            "_model_name": "DescriptionStyleModel",
            "_view_count": null,
            "_view_module": "@jupyter-widgets/base",
            "_view_module_version": "1.2.0",
            "_view_name": "StyleView",
            "description_width": ""
          }
        },
        "f5fa4ee9614443639b679af64a81da91": {
          "model_module": "@jupyter-widgets/base",
          "model_name": "LayoutModel",
          "model_module_version": "1.2.0",
          "state": {
            "_model_module": "@jupyter-widgets/base",
            "_model_module_version": "1.2.0",
            "_model_name": "LayoutModel",
            "_view_count": null,
            "_view_module": "@jupyter-widgets/base",
            "_view_module_version": "1.2.0",
            "_view_name": "LayoutView",
            "align_content": null,
            "align_items": null,
            "align_self": null,
            "border": null,
            "bottom": null,
            "display": null,
            "flex": null,
            "flex_flow": null,
            "grid_area": null,
            "grid_auto_columns": null,
            "grid_auto_flow": null,
            "grid_auto_rows": null,
            "grid_column": null,
            "grid_gap": null,
            "grid_row": null,
            "grid_template_areas": null,
            "grid_template_columns": null,
            "grid_template_rows": null,
            "height": null,
            "justify_content": null,
            "justify_items": null,
            "left": null,
            "margin": null,
            "max_height": null,
            "max_width": null,
            "min_height": null,
            "min_width": null,
            "object_fit": null,
            "object_position": null,
            "order": null,
            "overflow": null,
            "overflow_x": null,
            "overflow_y": null,
            "padding": null,
            "right": null,
            "top": null,
            "visibility": null,
            "width": null
          }
        },
        "043008c2c2864cbebd3505049826d2fd": {
          "model_module": "@jupyter-widgets/controls",
          "model_name": "ProgressStyleModel",
          "model_module_version": "1.5.0",
          "state": {
            "_model_module": "@jupyter-widgets/controls",
            "_model_module_version": "1.5.0",
            "_model_name": "ProgressStyleModel",
            "_view_count": null,
            "_view_module": "@jupyter-widgets/base",
            "_view_module_version": "1.2.0",
            "_view_name": "StyleView",
            "bar_color": null,
            "description_width": ""
          }
        },
        "26a70a9c71aa4f59b293b704f05b5087": {
          "model_module": "@jupyter-widgets/base",
          "model_name": "LayoutModel",
          "model_module_version": "1.2.0",
          "state": {
            "_model_module": "@jupyter-widgets/base",
            "_model_module_version": "1.2.0",
            "_model_name": "LayoutModel",
            "_view_count": null,
            "_view_module": "@jupyter-widgets/base",
            "_view_module_version": "1.2.0",
            "_view_name": "LayoutView",
            "align_content": null,
            "align_items": null,
            "align_self": null,
            "border": null,
            "bottom": null,
            "display": null,
            "flex": null,
            "flex_flow": null,
            "grid_area": null,
            "grid_auto_columns": null,
            "grid_auto_flow": null,
            "grid_auto_rows": null,
            "grid_column": null,
            "grid_gap": null,
            "grid_row": null,
            "grid_template_areas": null,
            "grid_template_columns": null,
            "grid_template_rows": null,
            "height": null,
            "justify_content": null,
            "justify_items": null,
            "left": null,
            "margin": null,
            "max_height": null,
            "max_width": null,
            "min_height": null,
            "min_width": null,
            "object_fit": null,
            "object_position": null,
            "order": null,
            "overflow": null,
            "overflow_x": null,
            "overflow_y": null,
            "padding": null,
            "right": null,
            "top": null,
            "visibility": null,
            "width": null
          }
        },
        "5ecec3b7c94741ecb5c91ea3a4fbd42d": {
          "model_module": "@jupyter-widgets/controls",
          "model_name": "DescriptionStyleModel",
          "model_module_version": "1.5.0",
          "state": {
            "_model_module": "@jupyter-widgets/controls",
            "_model_module_version": "1.5.0",
            "_model_name": "DescriptionStyleModel",
            "_view_count": null,
            "_view_module": "@jupyter-widgets/base",
            "_view_module_version": "1.2.0",
            "_view_name": "StyleView",
            "description_width": ""
          }
        }
      }
    }
  },
  "cells": [
    {
      "cell_type": "markdown",
      "source": [
        "# Imports"
      ],
      "metadata": {
        "id": "MP4w9g1dwOzr"
      }
    },
    {
      "cell_type": "code",
      "execution_count": 127,
      "metadata": {
        "id": "A9jvkNyEvxnW"
      },
      "outputs": [],
      "source": [
        "import os\n",
        "import torch\n",
        "import torch.nn as nn\n",
        "import numpy as np\n",
        "from IPython import embed\n",
        "from skimage import color\n",
        "from PIL import Image\n",
        "from torch.utils.data import Dataset, IterableDataset\n",
        "from torchsummary import summary\n",
        "from tqdm.notebook import trange, tqdm\n",
        "from torch.nn.utils.clip_grad import clip_grad_norm_\n",
        "\n"
      ]
    },
    {
      "cell_type": "code",
      "source": [
        "from google.colab import drive\n",
        "drive.mount('/content/drive')"
      ],
      "metadata": {
        "colab": {
          "base_uri": "https://localhost:8080/"
        },
        "id": "Dyg1M7GWg_Tz",
        "outputId": "547caef8-3d71-4705-dc77-3a7fc24e71fd"
      },
      "execution_count": 3,
      "outputs": [
        {
          "output_type": "stream",
          "name": "stdout",
          "text": [
            "Mounted at /content/drive\n"
          ]
        }
      ]
    },
    {
      "cell_type": "markdown",
      "source": [
        "# Data"
      ],
      "metadata": {
        "id": "4-r0iLRVwTDy"
      }
    },
    {
      "cell_type": "code",
      "source": [
        "#Pre processing of data to index rbg training data\n",
        "def preProcessing(path, h=256, w=256):\n",
        "  if not os.path.exists(path + \"/train\"):\n",
        "    os.mkdir(path + \"/train\")\n",
        "    os.mkdir(path + \"/train/rgb\")\n",
        "\n",
        "  idx=0\n",
        "  for filename in os.listdir(path):\n",
        "    if not os.path.isdir(path + \"/\" + filename):\n",
        "      \n",
        "      #get RGB image, resize, and put in rgb folder\n",
        "      rgb_img=Image.open(path + \"/\" + filename)\n",
        "      rgb_img=rgb_img.resize((w, h))\n",
        "      rgb_img.save(path + \"/train/target/\" + str(idx) + \"_rgb.png\")\n",
        "\n",
        "      idx+=1\n"
      ],
      "metadata": {
        "id": "8dVwHNj-wU4X"
      },
      "execution_count": 7,
      "outputs": []
    },
    {
      "cell_type": "code",
      "source": [
        "#Scafolding for Dataset\n",
        "def myDataset(h=256, w=256, rgb2lab=True, zhangmodel=True, edmodel=False):\n",
        "  def __init__(self, img_dir, transform):\n",
        "    self.img_dir=img_dir\n",
        "    self.transform=transform\n",
        "    self.dataset_length = len(os.listdir(img_dir + \"/train/rgb\"))\n",
        "    \n",
        "    #Set up dataset so images are indexed\n",
        "    preProcessing(img_dir, h, w)\n",
        "\n",
        "    if zhangmodel:\n",
        "      print(\"ZHANG MODEL\")\n",
        "\n",
        "    elif edmodel:\n",
        "      print(\"ED MODEL\")\n",
        "\n",
        "    def __len__(self):\n",
        "      return self.dataset_length\n",
        "\n",
        "    def __getitem__(self, idx):\n",
        "      #Get RGB image, resize, and transform it\n",
        "      rgb_img=Image.open(self.img_dir + \"/\" + str(idx) + \"_rgb.png\")\n",
        "      rgb_img=self.transform(rgb_img.resize((w, h)))\n",
        "\n",
        "      #Get CIE-Lab equivalent of the RGB image\n",
        "      clab_array=color.rgb2lab(np.asarray(rgb_img))\n",
        "      clab_img=Image.fromarray(clab_array, mode=\"LAB\")\n",
        "\n",
        "      #Get greyscale CIE-Lab equivalent of the RGB image\n",
        "      clab_grayimg=Image.fromarray(clab_array[:, :, 0], mode=\"LAB\")\n",
        "\n",
        "      data={'input':clab_grayimg, 'target':clab_img}\n",
        "\n",
        "      return data\n",
        "    "
      ],
      "metadata": {
        "id": "uwgJXRjn2oyt"
      },
      "execution_count": 89,
      "outputs": []
    },
    {
      "cell_type": "code",
      "source": [
        "class zhangDataset(Dataset):\n",
        "  def __init__(self, img_dir):\n",
        "    self.img_dir=img_dir\n",
        "    self.h = 256\n",
        "    self.w = 256\n",
        "    paths = os.listdir(self.img_dir)\n",
        "    self.dataset_length = len(paths)\n",
        "    self.paths = list(map(lambda x: os.path.join(self.img_dir, x), paths))\n",
        "\n",
        "  def __len__(self):\n",
        "    return self.dataset_length\n",
        "\n",
        "  def __getitem__(self, idx):\n",
        "    imagepath = self.paths[idx]\n",
        "    imagefile = os.path.basename(imagepath)\n",
        "    rgb_img = Image.open(imagepath)\n",
        "    rgb_img = rgb_img.resize((self.w, self.h))\n",
        "    #Get CIE-Lab equivalent of the RGB image\n",
        "    clab_array=color.rgb2lab(np.asarray(rgb_img, dtype = np.float32))\n",
        "    clab_img=Image.fromarray(clab_array, mode=\"LAB\")\n",
        "\n",
        "    #Get greyscale CIE-Lab equivalent of the RGB image\n",
        "    clab_grayarray = clab_array[:, :, 0]\n",
        "    clab_grayarray = clab_grayarray[np.newaxis,:, :]\n",
        "    clab_grayimg=Image.fromarray(clab_array[:, :, 0], mode=\"LAB\")\n",
        "\n",
        "    clab_array = clab_array.transpose((2, 0, 1)) # (3, 256, 256)\n",
        "\n",
        "    data={'input':clab_grayarray, 'target':clab_array}\n",
        "\n",
        "    return data"
      ],
      "metadata": {
        "id": "2zK_YyGcwVP6"
      },
      "execution_count": 196,
      "outputs": []
    },
    {
      "cell_type": "markdown",
      "source": [
        "# Model 1 (\"Colorful Image Colorization\" by Zhang et al.)"
      ],
      "metadata": {
        "id": "QerlomvDwVor"
      }
    },
    {
      "cell_type": "code",
      "source": [
        "class BaseModel(nn.Module):\n",
        "  '''\n",
        "  A 8-blocks cnn model, each block has multiple cnn layer (22 in total)\n",
        "  \"prediction\" in CIELAB space (L, a, b)\n",
        "  For this model, it takes in \"grayscale image\" with only L value\n",
        "  and it outputs a and b values\n",
        "  '''\n",
        "  def __init__(self, norm_layer = nn.BatchNorm2d):\n",
        "    super(BaseModel, self).__init__()\n",
        "    self.l_cent = 50\n",
        "    self.l_norm = 100\n",
        "    self.ab_norm = 110\n",
        "    # layer 1\n",
        "    self.layer1 = nn.Sequential(*[\n",
        "            nn.Conv2d(1, 64, kernel_size=3, stride=1, padding=1, bias=True),\n",
        "            nn.ReLU(True),\n",
        "            nn.Conv2d(64, 64, kernel_size=3, stride=2, padding=1, bias=True),\n",
        "            nn.ReLU(True),\n",
        "            norm_layer(64)])\n",
        "\n",
        "    # layer 2\n",
        "    self.layer2 = nn.Sequential(*[\n",
        "        nn.Conv2d(64, 128, kernel_size=3, stride=1, padding=1, bias=True),\n",
        "        nn.ReLU(True),\n",
        "        nn.Conv2d(128, 128, kernel_size=3, stride=2, padding=1, bias=True),\n",
        "        nn.ReLU(True),\n",
        "        norm_layer(128)])\n",
        "\n",
        "    # layer 3\n",
        "    self.layer3 = nn.Sequential(*[\n",
        "        nn.Conv2d(128, 256, kernel_size=3, stride=1, padding=1, bias=True),\n",
        "        nn.ReLU(True),\n",
        "        nn.Conv2d(256, 256, kernel_size=3, stride=1, padding=1, bias=True),\n",
        "        nn.ReLU(True),\n",
        "        nn.Conv2d(256, 256, kernel_size=3, stride=2, padding=1, bias=True),\n",
        "        nn.ReLU(True),\n",
        "        norm_layer(256)])\n",
        "\n",
        "    # layer 4\n",
        "    self.layer4 = nn.Sequential(*[\n",
        "        nn.Conv2d(256, 512, kernel_size=3, stride=1, padding=1, bias=True),\n",
        "        nn.ReLU(True),\n",
        "        nn.Conv2d(512, 512, kernel_size=3, stride=1, padding=1, bias=True),\n",
        "        nn.ReLU(True),\n",
        "        nn.Conv2d(512, 512, kernel_size=3, stride=1, padding=1, bias=True),\n",
        "        nn.ReLU(True),\n",
        "        norm_layer(512)])\n",
        "\n",
        "    # layer 5\n",
        "    self.layer5 = nn.Sequential(*[\n",
        "        nn.Conv2d(512, 512, kernel_size=3, dilation=2, stride=1, padding=2, bias=True),\n",
        "        nn.ReLU(True),\n",
        "        nn.Conv2d(512, 512, kernel_size=3, dilation=2, stride=1, padding=2, bias=True),\n",
        "        nn.ReLU(True),\n",
        "        nn.Conv2d(512, 512, kernel_size=3, dilation=2, stride=1, padding=2, bias=True),\n",
        "        nn.ReLU(True),\n",
        "        norm_layer(512)])\n",
        "\n",
        "    #layer 6\n",
        "    self.layer6 = nn.Sequential(*[\n",
        "        nn.Conv2d(512, 512, kernel_size=3, dilation=2, stride=1, padding=2, bias=True),\n",
        "        nn.ReLU(True),\n",
        "        nn.Conv2d(512, 512, kernel_size=3, dilation=2, stride=1, padding=2, bias=True),\n",
        "        nn.ReLU(True),\n",
        "        nn.Conv2d(512, 512, kernel_size=3, dilation=2, stride=1, padding=2, bias=True),\n",
        "        nn.ReLU(True),\n",
        "        norm_layer(512),])\n",
        "\n",
        "    #layer 7\n",
        "    self.layer7 = nn.Sequential(*[\n",
        "        nn.Conv2d(512, 512, kernel_size=3, stride=1, padding=1, bias=True),\n",
        "        nn.ReLU(True),\n",
        "        nn.Conv2d(512, 512, kernel_size=3, stride=1, padding=1, bias=True),\n",
        "        nn.ReLU(True),\n",
        "        nn.Conv2d(512, 512, kernel_size=3, stride=1, padding=1, bias=True),\n",
        "        nn.ReLU(True),\n",
        "        norm_layer(512),])\n",
        "\n",
        "    #layer 8\n",
        "    self.layer8 = nn.Sequential(*[\n",
        "        nn.ConvTranspose2d(512, 256, kernel_size=4, stride=2, padding=1, bias=True),\n",
        "        nn.ReLU(True),\n",
        "        nn.Conv2d(256, 256, kernel_size=3, stride=1, padding=1, bias=True),\n",
        "        nn.ReLU(True),\n",
        "        nn.Conv2d(256, 256, kernel_size=3, stride=1, padding=1, bias=True),\n",
        "        nn.ReLU(True),\n",
        "        nn.Conv2d(256, 313, kernel_size=1, stride=1, padding=0, bias=True),])\n",
        "\n",
        "    self.softmax = nn.Softmax(dim=1)\n",
        "    # 2 means (a, b)\n",
        "    self.model_out = nn.Conv2d(313, 2, kernel_size=1, padding=0, dilation=1, stride=1, bias=False)\n",
        "    self.upsample = nn.Upsample(scale_factor=4, mode='bilinear')\n",
        "  \n",
        "  def normalize_l(self, in_l):\n",
        "    return (in_l-self.l_cent)/self.l_norm\n",
        "\n",
        "  def forward(self, input_l):\n",
        "    # model\n",
        "    conv1_2 = self.layer1(self.normalize_l(input_l))\n",
        "    conv2_2 = self.layer2(conv1_2)\n",
        "    conv3_3 = self.layer3(conv2_2)\n",
        "    conv4_3 = self.layer4(conv3_3)\n",
        "    conv5_3 = self.layer5(conv4_3)\n",
        "    conv6_3 = self.layer6(conv5_3)\n",
        "    conv7_3 = self.layer7(conv6_3)\n",
        "    conv8_3 = self.layer8(conv7_3)\n",
        "\n",
        "    out_reg = self.model_out(self.softmax(conv8_3))\n",
        "\n",
        "    # this is deal with nomalization\n",
        "    # output is in [0,1] (ratio of a, b to L)\n",
        "    # L ususally has a range [0, 100] (or 110)\n",
        "    return self.ab_norm  *(self.upsample(out_reg))"
      ],
      "metadata": {
        "id": "LEW1sIn5xsx-"
      },
      "execution_count": 159,
      "outputs": []
    },
    {
      "cell_type": "markdown",
      "source": [
        "# Model 1 Loss"
      ],
      "metadata": {
        "id": "j1N3H9IqG2UW"
      }
    },
    {
      "cell_type": "code",
      "source": [
        "def RebalanceLoss"
      ],
      "metadata": {
        "id": "33iGi04v_A-F"
      },
      "execution_count": null,
      "outputs": []
    },
    {
      "cell_type": "code",
      "source": [
        "def GetClassWeights"
      ],
      "metadata": {
        "id": "PJWQvrojG9D8"
      },
      "execution_count": null,
      "outputs": []
    },
    {
      "cell_type": "markdown",
      "source": [
        "# Model 1 training"
      ],
      "metadata": {
        "id": "0QCwXUvM2Nhg"
      }
    },
    {
      "cell_type": "code",
      "source": [
        "!unzip \"/content/drive/MyDrive/ACV/Image Colorization Dataset.zip\" -d \"/content/\""
      ],
      "metadata": {
        "id": "kQd9m45qg8pv"
      },
      "execution_count": null,
      "outputs": []
    },
    {
      "cell_type": "code",
      "source": [
        "dp_zip = \"/content/drive/MyDrive/ACV/Image Colorization Dataset.zip\"\n",
        "dp_train_path = \"/content/data/train_color\"\n",
        "dp_test_path = \"/content/data/train_color\"\n",
        "zhang_train_dataset = zhangDataset(dp_train_path)\n",
        "zhang_train_dataset[0][\"target\"].shape"
      ],
      "metadata": {
        "colab": {
          "base_uri": "https://localhost:8080/"
        },
        "id": "zs7Y6HW8m8lh",
        "outputId": "e0e59020-a8db-4174-d3de-c6a9930c398b"
      },
      "execution_count": 197,
      "outputs": [
        {
          "output_type": "execute_result",
          "data": {
            "text/plain": [
              "(3, 256, 256)"
            ]
          },
          "metadata": {},
          "execution_count": 197
        }
      ]
    },
    {
      "cell_type": "code",
      "source": [
        "# Hyper parameters and others\n",
        "lr = 1e-2\n",
        "epochs = 10\n",
        "batch_size = 8\n",
        "criterion = None\n",
        "if True:\n",
        "  criterion = nn.MSELoss()\n",
        "else:\n",
        "  print(\"Not implemented\")\n",
        "zhangmodel = BaseModel()\n",
        "optimizer = torch.optim.Adam(params=zhangmodel.parameters(), lr=lr)\n"
      ],
      "metadata": {
        "id": "akOZlYcRNmN1"
      },
      "execution_count": 190,
      "outputs": []
    },
    {
      "cell_type": "code",
      "source": [
        "def forward(x):\n",
        "    # forward pass of the model\n",
        "    res = zhangmodel(x)\n",
        "    return res #res.transpose(1, 0)\n",
        "\n",
        "def cal_loss(res, targets, pred_sizes, target_sizes):\n",
        "    # calculate loss\n",
        "    # loss = criterion(res, targets, pred_sizes, target_sizes)\n",
        "    print(res.shape, targets.shape)\n",
        "    loss = criterion(res, targets[:, 1:, :, :])\n",
        "    return loss\n",
        "\n",
        "def train_batch(batch):\n",
        "    inputs, targets = batch['input'], batch['target']\n",
        "    res = forward(inputs)\n",
        "\n",
        "    # copy the data to cpu\n",
        "    # res = res.contiguous().cpu()\n",
        "\n",
        "    # calculate probabbilities\n",
        "    # res = torch.nn.functional.log_softmax(res, 2)\n",
        "    # T, B, C = res.size()\n",
        "\n",
        "    # res_size = torch.LongTensor([T for i in range(B)])\n",
        "\n",
        "    # also bring to cpu!\n",
        "    # targets= targets.view(-1).contiguous()\n",
        "\n",
        "    loss = cal_loss(res, targets, 0, 0)\n",
        "    return loss\n",
        "\n",
        "\n",
        "def training_step(batch):\n",
        "    loss = train_batch(batch)\n",
        "    optimizer.zero_grad()\n",
        "    loss.backward()\n",
        "    # prevent gradient explode\n",
        "    # clip_grad_norm_(model.parameters(), 0.05)\n",
        "    optimizer.step()\n",
        "    return abs(loss.item())\n",
        "     "
      ],
      "metadata": {
        "id": "-YCKjJDDQQel"
      },
      "execution_count": 208,
      "outputs": []
    },
    {
      "cell_type": "code",
      "source": [
        "losses = []\n",
        "# training loop\n",
        "for epoch in range(0, epochs):\n",
        "    pbar = None\n",
        "    loader = torch.utils.data.DataLoader(zhang_train_dataset,\n",
        "                batch_size=batch_size,\n",
        "                shuffle=True)\n",
        "    pbar = tqdm(loader, leave=True, total= len(loader))\n",
        "    zhangmodel.train()\n",
        "    outputs = []\n",
        "\n",
        "    for batch_nb, batch in enumerate(pbar):\n",
        "        loss = training_step(batch)\n",
        "        print(loss)\n",
        "        outputs.append(loss)\n",
        "        break\n",
        "\n",
        "    # losses.extend(outputs)\n",
        "\n",
        "    # train_result = np.mean(outputs)\n",
        "    # print('epoch = {}, train_loss = {}'.format(epoch, train_result)) \n",
        "    # print(\"saving checkpoint\")\n",
        "    # torch.save(model.state_dict(), save_path)\n"
      ],
      "metadata": {
        "id": "7ElrcPhzOIbf",
        "outputId": "efab0bc1-04a0-4108-f43b-aa82635db777",
        "colab": {
          "base_uri": "https://localhost:8080/",
          "height": 116,
          "referenced_widgets": [
            "9640b2067d5e4edcb80b9dd9a0b457ed",
            "0fc515e1a56140a3a843ea486a57f5e7",
            "2b7b3588989b4f009727dc326cafa702",
            "f6e326940bd54787bdb2b8de90ca0e88",
            "d52c7ae00e7f4a63b2ef24f38a52a85b",
            "5b9d7bc17ec74eda8848230a9a80ff7f",
            "f25df4c1628a40a8b315169b93fcb1ce",
            "d7bc360d4b2341f6be18cce9862d327b",
            "c82a94249f694e4b80a5633a29200f37",
            "07b599f754f444319d1c81259d42c8ac",
            "3c53da840fc94f3da39a2e7c13076e23",
            "93117bcd8cac40d6bd8412d18334a822",
            "7189544d06824031b9f11f775fbff946",
            "783e34aac1db45ba82e5d5ca3e302658",
            "385562c53f7d4b019b2171b956bca5d6",
            "6b7daee1dceb46738fa85805cf61e50f",
            "751c973197c24accb6988df714c05e69",
            "f79fb36527304b92af3a9657932cee53",
            "f5fa4ee9614443639b679af64a81da91",
            "043008c2c2864cbebd3505049826d2fd",
            "26a70a9c71aa4f59b293b704f05b5087",
            "5ecec3b7c94741ecb5c91ea3a4fbd42d"
          ]
        }
      },
      "execution_count": null,
      "outputs": [
        {
          "output_type": "display_data",
          "data": {
            "text/plain": [
              "  0%|          | 0/625 [00:00<?, ?it/s]"
            ],
            "application/vnd.jupyter.widget-view+json": {
              "version_major": 2,
              "version_minor": 0,
              "model_id": "9640b2067d5e4edcb80b9dd9a0b457ed"
            }
          },
          "metadata": {}
        },
        {
          "output_type": "stream",
          "name": "stdout",
          "text": [
            "torch.Size([8, 2, 256, 256]) torch.Size([8, 3, 256, 256])\n"
          ]
        },
        {
          "output_type": "display_data",
          "data": {
            "text/plain": [
              "  0%|          | 0/625 [00:00<?, ?it/s]"
            ],
            "application/vnd.jupyter.widget-view+json": {
              "version_major": 2,
              "version_minor": 0,
              "model_id": "93117bcd8cac40d6bd8412d18334a822"
            }
          },
          "metadata": {}
        },
        {
          "output_type": "stream",
          "name": "stdout",
          "text": [
            "torch.Size([8, 2, 256, 256]) torch.Size([8, 3, 256, 256])\n"
          ]
        }
      ]
    }
  ]
}