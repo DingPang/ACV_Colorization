{
  "nbformat": 4,
  "nbformat_minor": 0,
  "metadata": {
    "colab": {
      "provenance": [],
      "machine_shape": "hm"
    },
    "kernelspec": {
      "name": "python3",
      "display_name": "Python 3"
    },
    "language_info": {
      "name": "python"
    },
    "accelerator": "GPU",
    "gpuClass": "premium",
    "widgets": {
      "application/vnd.jupyter.widget-state+json": {
        "8b53402e8a9c496aa7d86c0a99b9fae7": {
          "model_module": "@jupyter-widgets/controls",
          "model_name": "HBoxModel",
          "model_module_version": "1.5.0",
          "state": {
            "_dom_classes": [],
            "_model_module": "@jupyter-widgets/controls",
            "_model_module_version": "1.5.0",
            "_model_name": "HBoxModel",
            "_view_count": null,
            "_view_module": "@jupyter-widgets/controls",
            "_view_module_version": "1.5.0",
            "_view_name": "HBoxView",
            "box_style": "",
            "children": [
              "IPY_MODEL_80c31c8f14da42909ee9951f7e98555c",
              "IPY_MODEL_7e03d00c8a454af39e5ec536b4700603",
              "IPY_MODEL_f1dbdefb202143c0aa6770fb08b203f7"
            ],
            "layout": "IPY_MODEL_0c05dc3149b0481f96fccda619b19cfd"
          }
        },
        "80c31c8f14da42909ee9951f7e98555c": {
          "model_module": "@jupyter-widgets/controls",
          "model_name": "HTMLModel",
          "model_module_version": "1.5.0",
          "state": {
            "_dom_classes": [],
            "_model_module": "@jupyter-widgets/controls",
            "_model_module_version": "1.5.0",
            "_model_name": "HTMLModel",
            "_view_count": null,
            "_view_module": "@jupyter-widgets/controls",
            "_view_module_version": "1.5.0",
            "_view_name": "HTMLView",
            "description": "",
            "description_tooltip": null,
            "layout": "IPY_MODEL_286865a77496420eb3cb37f0d34e8b81",
            "placeholder": "​",
            "style": "IPY_MODEL_cce70119ffd2415b9349c121b5aa499e",
            "value": " 10%"
          }
        },
        "7e03d00c8a454af39e5ec536b4700603": {
          "model_module": "@jupyter-widgets/controls",
          "model_name": "FloatProgressModel",
          "model_module_version": "1.5.0",
          "state": {
            "_dom_classes": [],
            "_model_module": "@jupyter-widgets/controls",
            "_model_module_version": "1.5.0",
            "_model_name": "FloatProgressModel",
            "_view_count": null,
            "_view_module": "@jupyter-widgets/controls",
            "_view_module_version": "1.5.0",
            "_view_name": "ProgressView",
            "bar_style": "",
            "description": "",
            "description_tooltip": null,
            "layout": "IPY_MODEL_4f3cef818a21483bb4b20518f30bc095",
            "max": 5625,
            "min": 0,
            "orientation": "horizontal",
            "style": "IPY_MODEL_88212666b7124866a1ea861b12a4107b",
            "value": 567
          }
        },
        "f1dbdefb202143c0aa6770fb08b203f7": {
          "model_module": "@jupyter-widgets/controls",
          "model_name": "HTMLModel",
          "model_module_version": "1.5.0",
          "state": {
            "_dom_classes": [],
            "_model_module": "@jupyter-widgets/controls",
            "_model_module_version": "1.5.0",
            "_model_name": "HTMLModel",
            "_view_count": null,
            "_view_module": "@jupyter-widgets/controls",
            "_view_module_version": "1.5.0",
            "_view_name": "HTMLView",
            "description": "",
            "description_tooltip": null,
            "layout": "IPY_MODEL_7ecb3e6ac3d84c86aedab57b3c14495a",
            "placeholder": "​",
            "style": "IPY_MODEL_3021eaf0d2244198913b3c582b24cb8e",
            "value": " 567/5625 [01:09&lt;10:15,  8.22it/s]"
          }
        },
        "0c05dc3149b0481f96fccda619b19cfd": {
          "model_module": "@jupyter-widgets/base",
          "model_name": "LayoutModel",
          "model_module_version": "1.2.0",
          "state": {
            "_model_module": "@jupyter-widgets/base",
            "_model_module_version": "1.2.0",
            "_model_name": "LayoutModel",
            "_view_count": null,
            "_view_module": "@jupyter-widgets/base",
            "_view_module_version": "1.2.0",
            "_view_name": "LayoutView",
            "align_content": null,
            "align_items": null,
            "align_self": null,
            "border": null,
            "bottom": null,
            "display": null,
            "flex": null,
            "flex_flow": null,
            "grid_area": null,
            "grid_auto_columns": null,
            "grid_auto_flow": null,
            "grid_auto_rows": null,
            "grid_column": null,
            "grid_gap": null,
            "grid_row": null,
            "grid_template_areas": null,
            "grid_template_columns": null,
            "grid_template_rows": null,
            "height": null,
            "justify_content": null,
            "justify_items": null,
            "left": null,
            "margin": null,
            "max_height": null,
            "max_width": null,
            "min_height": null,
            "min_width": null,
            "object_fit": null,
            "object_position": null,
            "order": null,
            "overflow": null,
            "overflow_x": null,
            "overflow_y": null,
            "padding": null,
            "right": null,
            "top": null,
            "visibility": null,
            "width": null
          }
        },
        "286865a77496420eb3cb37f0d34e8b81": {
          "model_module": "@jupyter-widgets/base",
          "model_name": "LayoutModel",
          "model_module_version": "1.2.0",
          "state": {
            "_model_module": "@jupyter-widgets/base",
            "_model_module_version": "1.2.0",
            "_model_name": "LayoutModel",
            "_view_count": null,
            "_view_module": "@jupyter-widgets/base",
            "_view_module_version": "1.2.0",
            "_view_name": "LayoutView",
            "align_content": null,
            "align_items": null,
            "align_self": null,
            "border": null,
            "bottom": null,
            "display": null,
            "flex": null,
            "flex_flow": null,
            "grid_area": null,
            "grid_auto_columns": null,
            "grid_auto_flow": null,
            "grid_auto_rows": null,
            "grid_column": null,
            "grid_gap": null,
            "grid_row": null,
            "grid_template_areas": null,
            "grid_template_columns": null,
            "grid_template_rows": null,
            "height": null,
            "justify_content": null,
            "justify_items": null,
            "left": null,
            "margin": null,
            "max_height": null,
            "max_width": null,
            "min_height": null,
            "min_width": null,
            "object_fit": null,
            "object_position": null,
            "order": null,
            "overflow": null,
            "overflow_x": null,
            "overflow_y": null,
            "padding": null,
            "right": null,
            "top": null,
            "visibility": null,
            "width": null
          }
        },
        "cce70119ffd2415b9349c121b5aa499e": {
          "model_module": "@jupyter-widgets/controls",
          "model_name": "DescriptionStyleModel",
          "model_module_version": "1.5.0",
          "state": {
            "_model_module": "@jupyter-widgets/controls",
            "_model_module_version": "1.5.0",
            "_model_name": "DescriptionStyleModel",
            "_view_count": null,
            "_view_module": "@jupyter-widgets/base",
            "_view_module_version": "1.2.0",
            "_view_name": "StyleView",
            "description_width": ""
          }
        },
        "4f3cef818a21483bb4b20518f30bc095": {
          "model_module": "@jupyter-widgets/base",
          "model_name": "LayoutModel",
          "model_module_version": "1.2.0",
          "state": {
            "_model_module": "@jupyter-widgets/base",
            "_model_module_version": "1.2.0",
            "_model_name": "LayoutModel",
            "_view_count": null,
            "_view_module": "@jupyter-widgets/base",
            "_view_module_version": "1.2.0",
            "_view_name": "LayoutView",
            "align_content": null,
            "align_items": null,
            "align_self": null,
            "border": null,
            "bottom": null,
            "display": null,
            "flex": null,
            "flex_flow": null,
            "grid_area": null,
            "grid_auto_columns": null,
            "grid_auto_flow": null,
            "grid_auto_rows": null,
            "grid_column": null,
            "grid_gap": null,
            "grid_row": null,
            "grid_template_areas": null,
            "grid_template_columns": null,
            "grid_template_rows": null,
            "height": null,
            "justify_content": null,
            "justify_items": null,
            "left": null,
            "margin": null,
            "max_height": null,
            "max_width": null,
            "min_height": null,
            "min_width": null,
            "object_fit": null,
            "object_position": null,
            "order": null,
            "overflow": null,
            "overflow_x": null,
            "overflow_y": null,
            "padding": null,
            "right": null,
            "top": null,
            "visibility": null,
            "width": null
          }
        },
        "88212666b7124866a1ea861b12a4107b": {
          "model_module": "@jupyter-widgets/controls",
          "model_name": "ProgressStyleModel",
          "model_module_version": "1.5.0",
          "state": {
            "_model_module": "@jupyter-widgets/controls",
            "_model_module_version": "1.5.0",
            "_model_name": "ProgressStyleModel",
            "_view_count": null,
            "_view_module": "@jupyter-widgets/base",
            "_view_module_version": "1.2.0",
            "_view_name": "StyleView",
            "bar_color": null,
            "description_width": ""
          }
        },
        "7ecb3e6ac3d84c86aedab57b3c14495a": {
          "model_module": "@jupyter-widgets/base",
          "model_name": "LayoutModel",
          "model_module_version": "1.2.0",
          "state": {
            "_model_module": "@jupyter-widgets/base",
            "_model_module_version": "1.2.0",
            "_model_name": "LayoutModel",
            "_view_count": null,
            "_view_module": "@jupyter-widgets/base",
            "_view_module_version": "1.2.0",
            "_view_name": "LayoutView",
            "align_content": null,
            "align_items": null,
            "align_self": null,
            "border": null,
            "bottom": null,
            "display": null,
            "flex": null,
            "flex_flow": null,
            "grid_area": null,
            "grid_auto_columns": null,
            "grid_auto_flow": null,
            "grid_auto_rows": null,
            "grid_column": null,
            "grid_gap": null,
            "grid_row": null,
            "grid_template_areas": null,
            "grid_template_columns": null,
            "grid_template_rows": null,
            "height": null,
            "justify_content": null,
            "justify_items": null,
            "left": null,
            "margin": null,
            "max_height": null,
            "max_width": null,
            "min_height": null,
            "min_width": null,
            "object_fit": null,
            "object_position": null,
            "order": null,
            "overflow": null,
            "overflow_x": null,
            "overflow_y": null,
            "padding": null,
            "right": null,
            "top": null,
            "visibility": null,
            "width": null
          }
        },
        "3021eaf0d2244198913b3c582b24cb8e": {
          "model_module": "@jupyter-widgets/controls",
          "model_name": "DescriptionStyleModel",
          "model_module_version": "1.5.0",
          "state": {
            "_model_module": "@jupyter-widgets/controls",
            "_model_module_version": "1.5.0",
            "_model_name": "DescriptionStyleModel",
            "_view_count": null,
            "_view_module": "@jupyter-widgets/base",
            "_view_module_version": "1.2.0",
            "_view_name": "StyleView",
            "description_width": ""
          }
        }
      }
    }
  },
  "cells": [
    {
      "cell_type": "markdown",
      "source": [
        "# Imports"
      ],
      "metadata": {
        "id": "MP4w9g1dwOzr"
      }
    },
    {
      "cell_type": "code",
      "execution_count": 48,
      "metadata": {
        "id": "A9jvkNyEvxnW"
      },
      "outputs": [],
      "source": [
        "import os\n",
        "import torch\n",
        "import torch.nn as nn\n",
        "import numpy as np\n",
        "from IPython import embed\n",
        "from skimage import color\n",
        "from PIL import Image\n",
        "import ssl\n",
        "from tqdm.notebook import trange, tqdm\n",
        "from torchvision import transforms\n",
        "from torchvision.datasets import Caltech256\n",
        "import torch.nn.functional as F\n",
        "from torch.utils.data import Dataset, DataLoader\n",
        "from torchvision.datasets import CIFAR10, Caltech256\n",
        "from matplotlib import pyplot as plt"
      ]
    },
    {
      "cell_type": "code",
      "source": [
        "from google.colab import drive\n",
        "drive.mount('/content/drive')"
      ],
      "metadata": {
        "colab": {
          "base_uri": "https://localhost:8080/"
        },
        "id": "RdkNOXrcyPej",
        "outputId": "3fbc862b-5f1b-4b17-d84c-ca2439b979fb"
      },
      "execution_count": 105,
      "outputs": [
        {
          "output_type": "stream",
          "name": "stdout",
          "text": [
            "Drive already mounted at /content/drive; to attempt to forcibly remount, call drive.mount(\"/content/drive\", force_remount=True).\n"
          ]
        }
      ]
    },
    {
      "cell_type": "markdown",
      "source": [
        "# Model 2: Encoder Decoder w/Feature Extractor\n"
      ],
      "metadata": {
        "id": "MAv9GMc1tNop"
      }
    },
    {
      "cell_type": "markdown",
      "source": [
        "Data Processing and Dataset Preparation when using Flickr30k"
      ],
      "metadata": {
        "id": "ibjwmhKg8pa1"
      }
    },
    {
      "cell_type": "code",
      "source": [
        "#Pre processing of data to index rbg training data\n",
        "\n",
        "def preProcessing(path, w=256, h=256):\n",
        "  if not os.path.exists(path + \"/../train\"):\n",
        "    os.mkdir(path + \"/../train\")\n",
        "\n",
        "  idx=0\n",
        "  for filename in os.listdir(path):\n",
        "    if not os.path.isdir(path + \"/\" + filename) and \".csv\" not in filename:\n",
        "      \n",
        "      #get RGB image, resize, and put in rgb folder\n",
        "      rgb_img=Image.open(path + \"/\" + filename)\n",
        "      #rgb_img=rgb_img.resize((w, h))\n",
        "      rgb_img.save(path + \"/../train/\" + str(idx) + \"_rgb.png\")\n",
        "\n",
        "      idx+=1\n",
        "      if idx>11000:\n",
        "        break"
      ],
      "metadata": {
        "id": "UFdzTK_b-xNw"
      },
      "execution_count": null,
      "outputs": []
    },
    {
      "cell_type": "code",
      "source": [
        "#Set up dataset so images are indexed\n",
        "preProcessing(\"/content/flickr30k_images/flickr30k_images\", 256, 256)"
      ],
      "metadata": {
        "id": "Sf1rGd3nU8y6"
      },
      "execution_count": 179,
      "outputs": []
    },
    {
      "cell_type": "code",
      "source": [
        "from skimage import io\n",
        "class myEDDataset(Dataset):\n",
        "  def __init__(self, img_dir):\n",
        "    self.img_dir=img_dir\n",
        "    paths = os.listdir(self.img_dir)\n",
        "    self.dataset_length = len(paths)\n",
        "    self.paths = list(map(lambda x: os.path.join(self.img_dir, x), paths))\n",
        "  \n",
        "  def __len__(self):\n",
        "    return int((self.dataset_length))\n",
        "\n",
        "  def __getitem__(self, idx):\n",
        "    path = self.paths[idx]\n",
        "    rgb=Image.open(path)\n",
        "    rgb_resh=rgb.resize((32, 32))\n",
        "\n",
        "    #Get CIE-Lab equivalent of the RGB image\n",
        "    clab_array=color.rgb2lab(np.asarray(rgb_resh, dtype = np.float32))\n",
        "\n",
        "    #Get greyscale CIE-Lab equivalent of the RGB image\n",
        "    clab_grayarray = clab_array[:, :, 0]\n",
        "    clab_grayarray = clab_grayarray[np.newaxis,:, :]\n",
        "\n",
        "    clab_array=clab_array[:, :, 1:3]\n",
        "    clab_array = clab_array.transpose((2, 0, 1)) # (2, 224, 224)\n",
        "\n",
        "    #get incep input\n",
        "    target_img=rgb.resize((299, 299))\n",
        "    incep_array=color.rgb2lab(np.asarray(target_img, dtype = np.float32))\n",
        "    incep_array = incep_array.transpose((2, 0, 1)) # (3, 299, 299)\n",
        "\n",
        "    #Transform\n",
        "    input=clab_grayarray\n",
        "    target=clab_array\n",
        "    incep=incep_array\n",
        "\n",
        "    data={'input': input, 'target': target, 'incep': incep}\n",
        "\n",
        "    return data"
      ],
      "metadata": {
        "id": "WDi28Hvdyng3"
      },
      "execution_count": 13,
      "outputs": []
    },
    {
      "cell_type": "markdown",
      "source": [
        "Data Pre-processing for CIFAR10"
      ],
      "metadata": {
        "id": "BWUM7Uwv95N0"
      }
    },
    {
      "cell_type": "code",
      "source": [
        "#Prepare CIFAR10 dataset; split into train, val, and test subsets\n",
        "def import_image(img):\n",
        "    #convert to LAB\n",
        "    img=(color.rgb2lab(np.array(img)))\n",
        "\n",
        "    #normalize and reshape\n",
        "    img=(img+128)/255\n",
        "    img=np.transpose((img), (2, 0, 1))\n",
        "    return torch.FloatTensor(img)\n",
        "\n",
        "img_transform = transforms.Compose([\n",
        "    transforms.Lambda(import_image)\n",
        "])\n",
        "\n",
        "batch_size=8\n",
        "\n",
        "train_dataset = CIFAR10(\"./data/CIFAR10\", train=True, transform=img_transform, target_transform=None, download=True)\n",
        "train_dataset, val_dataset = torch.utils.data.random_split(train_dataset, [0.9, 0.1])\n",
        "train_dataloader = DataLoader(train_dataset, batch_size=batch_size, shuffle=True)\n",
        "val_dataloader = DataLoader(val_dataset, batch_size=batch_size, shuffle=True)\n",
        "\n",
        "test_dataset = CIFAR10(\"./data/CIFAR10\", train=False, transform=img_transform, target_transform=None, download=True)\n",
        "test_dataloader = DataLoader(test_dataset, batch_size=1, shuffle=True)"
      ],
      "metadata": {
        "id": "yim_Vs2F6kZt",
        "outputId": "210b45d8-83ab-4d98-a5a8-abf2c1cc2495",
        "colab": {
          "base_uri": "https://localhost:8080/"
        }
      },
      "execution_count": 65,
      "outputs": [
        {
          "output_type": "stream",
          "name": "stdout",
          "text": [
            "Files already downloaded and verified\n",
            "Files already downloaded and verified\n"
          ]
        }
      ]
    },
    {
      "cell_type": "markdown",
      "source": [
        "Data Pre-processing for CalTech256"
      ],
      "metadata": {
        "id": "A_sIE_i8-MfL"
      }
    },
    {
      "cell_type": "code",
      "source": [
        "#Prepare CalTech256 datasetl split into train, val, and test subsets\n",
        "from torchvision.datasets.caltech import Caltech256\n",
        "def import_image(img):\n",
        "    img=np.array(img)\n",
        "    if len(img.shape)<3:\n",
        "      img=np.stack((img, )*3, axis=-1)\n",
        "\n",
        "    img=Image.fromarray(img)\n",
        "\n",
        "    return torch.FloatTensor(np.transpose(color.rgb2lab(np.array(img)), (2, 0, 1)))\n",
        "\n",
        "img_transform = transforms.Compose([\n",
        "    transforms.Lambda(import_image),\n",
        "    transforms.Resize((299, 299))\n",
        "])\n",
        "\n",
        "batch_size=8\n",
        "\n",
        "train_dataset = Caltech256(\"./data/Caltech256\", transform=img_transform, target_transform=None, download=True)\n",
        "train_dataset, val_dataset = torch.utils.data.random_split(train_dataset, [0.9, 0.1])\n",
        "train_dataloader = DataLoader(train_dataset, batch_size=batch_size, shuffle=True)\n",
        "val_dataloader = DataLoader(val_dataset, batch_size=batch_size, shuffle=True)\n",
        "\n",
        "test_dataset = Caltech256(\"./data/Caltech256\", transform=img_transform, target_transform=None, download=True)\n",
        "test_dataloader = DataLoader(test_dataset, batch_size=1, shuffle=True)"
      ],
      "metadata": {
        "id": "YOVnVPRjYzDC",
        "outputId": "4e46cb44-ead5-46e6-bb77-5f2b2c6f98c0",
        "colab": {
          "base_uri": "https://localhost:8080/"
        }
      },
      "execution_count": 17,
      "outputs": [
        {
          "output_type": "stream",
          "name": "stderr",
          "text": [
            "1183006720it [00:23, 50815196.65it/s]\n"
          ]
        },
        {
          "output_type": "stream",
          "name": "stdout",
          "text": [
            "Extracting ./data/Caltech256/caltech256/256_ObjectCategories.tar to ./data/Caltech256/caltech256\n",
            "Files already downloaded and verified\n"
          ]
        }
      ]
    },
    {
      "cell_type": "markdown",
      "source": [
        "Colorization Model based on [Deep Koalarization](https://arxiv.org/pdf/1712.03400.pdf) and [Model Implementations of Deep Koalarization](https://github.com/lauradang/automatic-image-colorization)"
      ],
      "metadata": {
        "id": "bzaaeURS9lEB"
      }
    },
    {
      "cell_type": "code",
      "source": [
        "%%capture\n",
        "!pip install pretrainedmodels"
      ],
      "metadata": {
        "id": "P1uCNlwu5OC9"
      },
      "execution_count": 7,
      "outputs": []
    },
    {
      "cell_type": "code",
      "source": [
        "import pretrainedmodels\n",
        "from pretrainedmodels import utils"
      ],
      "metadata": {
        "id": "-IjNuhcY5zIx"
      },
      "execution_count": 8,
      "outputs": []
    },
    {
      "cell_type": "code",
      "source": [
        "class Encoder(nn.Module):\n",
        "  def __init__(self):\n",
        "    super(Encoder, self).__init__()\n",
        "      \n",
        "    self.layer1 = nn.Conv2d(in_channels=1, out_channels=64, kernel_size=3, stride=2, padding=1)\n",
        "\n",
        "    self.layer2 = nn.Conv2d(in_channels=64, out_channels=128, kernel_size=3, stride=1, padding=1)\n",
        "\n",
        "    self.layer3 = nn.Conv2d(in_channels=128, out_channels=128, kernel_size=3, stride=2, padding=1)\n",
        "\n",
        "    self.layer4 = nn.Conv2d(in_channels=128, out_channels=256, kernel_size=3, stride=1, padding=1)\n",
        "\n",
        "    self.layer5 = nn.Conv2d(in_channels=256, out_channels=256, kernel_size=3, stride=2, padding=1)\n",
        "\n",
        "    self.layer6 = nn.Conv2d(in_channels=256, out_channels=512, kernel_size=3, stride=1, padding=1)\n",
        "\n",
        "    self.layer7 = nn.Conv2d(in_channels=512, out_channels=512, kernel_size=3, stride=1, padding=1)\n",
        "\n",
        "    self.layer8 = nn.Conv2d(in_channels=512, out_channels=256, kernel_size=3, stride=1, padding=1)\n",
        "\n",
        "  def forward(self, x):\n",
        "    x=F.relu(self.layer1(x))\n",
        "    x=F.relu(self.layer2(x))\n",
        "    x=F.relu(self.layer3(x))\n",
        "    x=F.relu(self.layer4(x))\n",
        "    x=F.relu(self.layer5(x))\n",
        "    x=F.relu(self.layer6(x))\n",
        "    x=F.relu(self.layer7(x))\n",
        "    x=F.relu(self.layer8(x))\n",
        "\n",
        "    return x"
      ],
      "metadata": {
        "id": "y51WDMXP8_gR"
      },
      "execution_count": 153,
      "outputs": []
    },
    {
      "cell_type": "code",
      "source": [
        "class Decoder(nn.Module):\n",
        "  def __init__(self):\n",
        "    super(Decoder, self).__init__()\n",
        "\n",
        "    self.layer1=nn.Conv2d(in_channels=1257, out_channels=256, kernel_size=1)\n",
        "\n",
        "    self.layer2=nn.Conv2d(in_channels=256, out_channels=128, kernel_size=3, padding=1)\n",
        "\n",
        "    self.layer3=nn.Conv2d(in_channels=128, out_channels=64, kernel_size=3, padding=1)\n",
        "\n",
        "    self.layer4=nn.Conv2d(in_channels=64, out_channels=64, kernel_size=3, padding=1)\n",
        "\n",
        "    self.layer5=nn.Conv2d(in_channels=64, out_channels=32, kernel_size=3, padding=1)\n",
        "    \n",
        "    self.layer6=nn.Conv2d(in_channels=32, out_channels=2, kernel_size=3, padding=1)\n",
        "\n",
        "  def forward(self, x):\n",
        "    x=F.relu(self.layer1(x))\n",
        "    x=F.relu(self.layer2(x))\n",
        "    x=F.interpolate(x, scale_factor=2)\n",
        "    \n",
        "    x=F.relu(self.layer3(x))\n",
        "    x=F.relu(self.layer4(x))\n",
        "    x=F.interpolate(x, scale_factor=2)\n",
        "\n",
        "    x=F.relu(self.layer5(x))\n",
        "    x=torch.tanh(self.layer6(x))\n",
        "    x=F.interpolate(x, scale_factor=2)\n",
        "\n",
        "    return x"
      ],
      "metadata": {
        "id": "7wrS8Soq9zJr"
      },
      "execution_count": 154,
      "outputs": []
    },
    {
      "cell_type": "code",
      "source": [
        "%%capture\n",
        "#feature extractor\n",
        "import ssl\n",
        "ssl._create_default_https_context = ssl._create_unverified_context\n",
        "inception = pretrainedmodels.__dict__[\"inceptionresnetv2\"](\n",
        "            num_classes=1001, \n",
        "            pretrained=\"imagenet+background\")\n",
        "inception.eval()"
      ],
      "metadata": {
        "id": "JTEpgGTXFZmb"
      },
      "execution_count": 178,
      "outputs": []
    },
    {
      "cell_type": "code",
      "source": [
        "class EDModel(nn.Module):\n",
        "    def __init__(self):\n",
        "      super(EDModel, self).__init__()\n",
        "\n",
        "      self.encoder=Encoder()\n",
        "      self.decoder=Decoder()\n",
        "\n",
        "    def forward(self, x, feature):\n",
        "\n",
        "      enout=self.encoder(x)\n",
        "\n",
        "      extract_feat=inception(feature)\n",
        "      extract_feat=extract_feat.view(-1, 1001, 1, 1)\n",
        "      \n",
        "      rows = torch.cat([extract_feat] * 4, dim=3)\n",
        "      embedding_block = torch.cat([rows] * 4, dim=2)\n",
        "      fusion_block = torch.cat([enout, embedding_block], dim=1)\n",
        "      \n",
        "      out=self.decoder(fusion_block)\n",
        "\n",
        "      return out"
      ],
      "metadata": {
        "id": "H8eLecCTtcpX"
      },
      "execution_count": 148,
      "outputs": []
    },
    {
      "cell_type": "code",
      "source": [
        "device = torch.device(\"cuda\" if torch.cuda.is_available() else \"cpu\")\n",
        "print(device)"
      ],
      "metadata": {
        "id": "Ol7MFhRwc7B-",
        "outputId": "49bde6e0-4787-4dc5-e1bf-b15bf18a5f02",
        "colab": {
          "base_uri": "https://localhost:8080/"
        }
      },
      "execution_count": 27,
      "outputs": [
        {
          "output_type": "stream",
          "name": "stdout",
          "text": [
            "cuda\n"
          ]
        }
      ]
    },
    {
      "cell_type": "code",
      "source": [
        "#Our refined version of F.mse_loss\n",
        "def bmse_loss(inputs, targets):\n",
        "    mse_loss = (inputs - targets) ** 2\n",
        "    weights = torch.log(torch.abs(targets)+1)+1\n",
        "    mse_loss = mse_loss*weights\n",
        "    mse_loss = mse_loss.mean()/torch.sum(weights)\n",
        "    return mse_loss\n",
        "\n",
        "#Training loop\n",
        "def train(model, train_loader, optimizer, device):\n",
        "  model.train()\n",
        "\n",
        "  #Track progress of training\n",
        "  pbar=None\n",
        "  pbar=tqdm(train_loader, leave=True, total=len(train_loader))\n",
        "  \n",
        "  total_loss=0.0\n",
        "  for idx, data in enumerate(pbar):\n",
        "\n",
        "    #Resize input, target, and feature\n",
        "    feature=(data[0])\n",
        "    feature=(feature.resize_(8, 3, 299, 299)).to(device)\n",
        "    input=(((data[0].resize_(8, 3, 32, 32)))[:, 0:1, :, :]).to(device)\n",
        "    target=(((data[0].resize_(8, 3, 32, 32)))[:, 1:3, :, :]).to(device)\n",
        "    \n",
        "    optimizer.zero_grad()\n",
        "    output=model(input, feature)\n",
        "    loss = F.mse_loss(output, target)\n",
        "\n",
        "    loss.backward()\n",
        "    optimizer.step()\n",
        "\n",
        "    total_loss+=loss.item()\n",
        "  \n",
        "  return total_loss/len(train_loader)\n",
        "\n",
        "#Validation loop\n",
        "def val(model, val_loader, device):\n",
        "  model.eval()\n",
        "\n",
        "  #Track progress of validation\n",
        "  pbar=None\n",
        "  pbar=tqdm(val_loader, leave=True, total=len(val_loader))\n",
        "  \n",
        "  total_loss=0.0\n",
        "  for idx, data in enumerate(pbar):\n",
        "\n",
        "    #Resize input, target, and feature\n",
        "    feature=(data[0])\n",
        "    feature=(feature.resize_(8, 3, 299, 299)).to(device)\n",
        "    input=(((data[0].resize_(8, 3, 32, 32)))[:, 0:1, :, :]).to(device)\n",
        "    target=(((data[0].resize_(8, 3, 32, 32)))[:, 1:3, :, :]).to(device)\n",
        "\n",
        "    output=model(input, feature)\n",
        "    loss = F.mse_loss(output, target)\n",
        "\n",
        "    total_loss+=loss.item()\n",
        "    \n",
        "  return total_loss/len(val_loader)"
      ],
      "metadata": {
        "id": "XxtaFBYUn5lf"
      },
      "execution_count": 155,
      "outputs": []
    },
    {
      "cell_type": "code",
      "source": [
        "#EDModel\n",
        "model = EDModel()\n",
        "model.to(device)\n",
        "\n",
        "#Inception Model for Feature Extraction\n",
        "inception.to(device)\n",
        "\n",
        "#optimizer\n",
        "optimizer=torch.optim.Adam(model.parameters(), lr=0.001)\n",
        "\n",
        "#Keep track of loss\n",
        "training_loss=[]\n",
        "validation_loss=[]\n",
        "\n",
        "MAX_EPOCHS=20\n",
        "latest_loss=10000000000000\n",
        "for epoch in range(MAX_EPOCHS):\n",
        "  print(\"Epoch \" + str(epoch) + \"/\" + str(MAX_EPOCHS))\n",
        "\n",
        "  train_loss=train(model, train_dataloader, optimizer, device)\n",
        "  val_loss=val(model, val_dataloader, device)\n",
        "\n",
        "  print(\"-----------------------------------------\")\n",
        "  print(\"Train loss: \" + str(train_loss))\n",
        "  print(\"Val loss: \" + str(val_loss))\n",
        "  print(\"-----------------------------------------\")\n",
        "\n",
        "  training_loss.append(train_loss)\n",
        "  validation_loss.append(val_loss)\n",
        "\n",
        "  #Save best version of the model\n",
        "  if val_loss<latest_loss:\n",
        "    torch.save(model.state_dict(), '/content/drive/MyDrive/checkpoint.pt')"
      ],
      "metadata": {
        "colab": {
          "base_uri": "https://localhost:8080/",
          "height": 66,
          "referenced_widgets": [
            "8b53402e8a9c496aa7d86c0a99b9fae7",
            "80c31c8f14da42909ee9951f7e98555c",
            "7e03d00c8a454af39e5ec536b4700603",
            "f1dbdefb202143c0aa6770fb08b203f7",
            "0c05dc3149b0481f96fccda619b19cfd",
            "286865a77496420eb3cb37f0d34e8b81",
            "cce70119ffd2415b9349c121b5aa499e",
            "4f3cef818a21483bb4b20518f30bc095",
            "88212666b7124866a1ea861b12a4107b",
            "7ecb3e6ac3d84c86aedab57b3c14495a",
            "3021eaf0d2244198913b3c582b24cb8e"
          ]
        },
        "id": "q043YdDrBS1G",
        "outputId": "c19281dd-3933-4fde-ad5d-ea24ca8a476a"
      },
      "execution_count": null,
      "outputs": [
        {
          "output_type": "stream",
          "name": "stdout",
          "text": [
            "Epoch 0/20\n"
          ]
        },
        {
          "output_type": "display_data",
          "data": {
            "text/plain": [
              "  0%|          | 0/5625 [00:00<?, ?it/s]"
            ],
            "application/vnd.jupyter.widget-view+json": {
              "version_major": 2,
              "version_minor": 0,
              "model_id": "8b53402e8a9c496aa7d86c0a99b9fae7"
            }
          },
          "metadata": {}
        }
      ]
    },
    {
      "cell_type": "code",
      "source": [
        "#Create Graphs for Train and Val loss\n",
        "plt.plot(training_loss, label=\"train\")\n",
        "plt.plot(validation_loss, label=\"val\")\n",
        "plt.legend()\n",
        "plt.title(\"Loss for Koalarization Model\")\n",
        "plt.xlabel(\"Epoch\")\n",
        "plt.ylabel(\"MSE Loss\")\n",
        "plt.xticks(np.arange(0, 25, 5))"
      ],
      "metadata": {
        "id": "YKPGavYxZjIb",
        "outputId": "cbde3e6e-8987-40d8-e9b9-049b0dbf0ead",
        "colab": {
          "base_uri": "https://localhost:8080/",
          "height": 646
        }
      },
      "execution_count": 93,
      "outputs": [
        {
          "output_type": "execute_result",
          "data": {
            "text/plain": [
              "([<matplotlib.axis.XTick at 0x7fd6fd622250>,\n",
              "  <matplotlib.axis.XTick at 0x7fd6fd6226a0>,\n",
              "  <matplotlib.axis.XTick at 0x7fd6fd622f70>,\n",
              "  <matplotlib.axis.XTick at 0x7fd70e00e9d0>,\n",
              "  <matplotlib.axis.XTick at 0x7fd5c45fd8b0>],\n",
              " [Text(0, 0, '0'),\n",
              "  Text(5, 0, '5'),\n",
              "  Text(10, 0, '10'),\n",
              "  Text(15, 0, '15'),\n",
              "  Text(20, 0, '20')])"
            ]
          },
          "metadata": {},
          "execution_count": 93
        },
        {
          "output_type": "display_data",
          "data": {
            "text/plain": [
              "<Figure size 640x480 with 1 Axes>"
            ],
            "image/png": "[encoded data removed]"
          },
          "metadata": {}
        }
      ]
    },
    {
      "cell_type": "markdown",
      "source": [
        "#Evaluation"
      ],
      "metadata": {
        "id": "pmCHzspJC94U"
      }
    },
    {
      "cell_type": "code",
      "source": [
        "#Visualization + Evaluation of Data\n",
        "\n",
        "#DELTA E 76\n",
        "#https://stackoverflow.com/questions/60257518/how-can-i-calculate-the-colorspace-delta-e-in-python-using-only-opencv-numpy-sci\n",
        "#http://zschuessler.github.io/DeltaE/learn/\n",
        "\n",
        "#load model\n",
        "model=EDModel()\n",
        "model.load_state_dict(torch.load('/content/drive/MyDrive/checkpointFINAL1.pt'))\n",
        "model.to(device)\n",
        "model.eval()\n",
        "\n",
        "#parse through test photos\n",
        "for idx, data in enumerate(test_dataloader):\n",
        "\n",
        "    #Resize feature, input; pass through the model to get the pred_ab\n",
        "    feature=(data[0])\n",
        "    feature=(feature.resize_(1, 3, 299, 299)).to(device)\n",
        "    input_L=(((data[0].resize_(1, 3, 32, 32)))[:, 0:1, :, :]).to(device)\n",
        "    pred_ab=model(input_L, feature)\n",
        "\n",
        "    #Get original image and reshape\n",
        "    orig_img=np.transpose(((data[0]).numpy())[0, :, :, :], (1, 2, 0))\n",
        "\n",
        "    #Concatenate the input L value and output a and b values to get the LAB image\n",
        "    out_img=np.transpose(\n",
        "        (torch.cat([input_L, pred_ab], dim=1))\n",
        "        .cpu()\n",
        "        .detach()\n",
        "        .numpy()[0, :, :, :], \n",
        "        (1, 2, 0)\n",
        "        )\n",
        "\n",
        "    #Undo normalization applied when processing images\n",
        "    orig_img[:, :, 0]=(orig_img[:, :, 0]*255)-128\n",
        "    orig_img[:, :, 1]=(orig_img[:, :, 1]*255)-128\n",
        "    orig_img[:, :, 2]=(orig_img[:, :, 2]*255)-128\n",
        "    out_img[:, :, 0]=(out_img[:, :, 0]*255)-128\n",
        "    out_img[:, :, 1]=(out_img[:, :, 1]*255)-128\n",
        "    out_img[:, :, 2]=(out_img[:, :, 2]*255)-128\n",
        "\n",
        "    #get diff between out and original images\n",
        "    diff=orig_img-out_img\n",
        "\n",
        "    diffL=diff[:, :, 0]\n",
        "    diffa=diff[:, :, 1]\n",
        "    diffb=diff[:, :, 2]\n",
        "\n",
        "    #Get delta value\n",
        "    delta=np.mean(np.sqrt((diffL*diffL)+(diffa*diffa)+(diffb*diffb)))\n",
        "\n",
        "    #Visualize the output and target images\n",
        "    rgb_orig_img=color.lab2rgb(orig_img)\n",
        "    rgb_out_img=color.lab2rgb(out_img)\n",
        "\n",
        "    img_plot=[rgb_orig_img, rgb_out_img]\n",
        "    \n",
        "    fig, ax = plt.subplots(figsize=(6, 6), nrows=1, ncols=2)\n",
        "    ax[0].imshow(rgb_orig_img)\n",
        "    ax[0].title.set_text('Original')\n",
        "    ax[1].imshow(rgb_out_img)\n",
        "    ax[1].title.set_text('Re-Colored')\n",
        "    \n",
        "    plt.xlabel('Delta: ' + str(delta))\n",
        "    plt.show()\n",
        "\n",
        "    #delete to allow ALL test pictures to be processed\n",
        "    break\n",
        "\n",
        "\n"
      ],
      "metadata": {
        "id": "O-3TE0TqCcWc",
        "outputId": "4faea899-067b-4f15-ed6e-5550074c6bcd",
        "colab": {
          "base_uri": "https://localhost:8080/",
          "height": 313
        }
      },
      "execution_count": 177,
      "outputs": [
        {
          "output_type": "display_data",
          "data": {
            "text/plain": [
              "<Figure size 600x600 with 2 Axes>"
            ],
            "image/png": "[encoded data removed]"
          },
          "metadata": {}
        }
      ]
    },
    {
      "cell_type": "markdown",
      "source": [
        "References: \\\\\n",
        "https://github.com/lauradang/automatic-image-colorization/blob/master/notebooks/inception_resnet.ipynb \\\\\n",
        "https://arxiv.org/pdf/1712.03400.pdf \\\\\n",
        "http://zschuessler.github.io/DeltaE/learn/ \\\\\n",
        "https://stackoverflow.com/questions/60257518/how-can-i-calculate-the-colorspace-delta-e-in-python-using-only-opencv-numpy-sci \\\\\n",
        "https://github.com/baldassarreFe/deep-koalarization \\\\\n",
        "https://www.cs.toronto.edu/~kriz/cifar.html \\\\\n",
        "https://www.kaggle.com/datasets/hsankesara/flickr-image-dataset \\\\\n",
        "https://data.caltech.edu/records/nyy15-4j048\n"
      ],
      "metadata": {
        "id": "CM9Igi7Ixz3_"
      }
    }
  ]
}